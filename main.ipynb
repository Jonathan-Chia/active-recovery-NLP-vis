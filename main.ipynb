{
 "cells": [
  {
   "cell_type": "markdown",
   "id": "7b8dc134",
   "metadata": {},
   "source": [
    "# Visualizing Active Recovery Protocol Text Data\n",
    "\n",
    "Active Recovery Protocols:\n",
    "\n",
    "* Breathwork\n",
    "* Cryotherapy\n",
    "* Exercise\n",
    "* Heat Therapy\n",
    "* Nature Immersion\n",
    "* Sleeping"
   ]
  },
  {
   "cell_type": "code",
   "execution_count": 2,
   "id": "dc29b66f",
   "metadata": {},
   "outputs": [],
   "source": [
    "%load_ext autoreload\n",
    "%autoreload 2"
   ]
  },
  {
   "cell_type": "code",
   "execution_count": 15,
   "id": "b13c246a",
   "metadata": {},
   "outputs": [],
   "source": [
    "from nltk.tokenize import word_tokenize\n",
    "from nltk.corpus import stopwords\n",
    "from nltk.stem import WordNetLemmatizer\n",
    "from nltk.util import ngrams\n",
    "import string\n",
    "from collections import Counter\n",
    "import matplotlib.pyplot as plt\n",
    "import seaborn as sns\n",
    "import spacy\n",
    "from sentence_transformers import SentenceTransformer\n",
    "from sklearn.metrics.pairwise import cosine_similarity\n",
    "import numpy as np\n",
    "import altair as alt\n",
    "import pandas as pd"
   ]
  },
  {
   "cell_type": "code",
   "execution_count": 3,
   "id": "db8221cc",
   "metadata": {},
   "outputs": [
    {
     "name": "stderr",
     "output_type": "stream",
     "text": [
      "[nltk_data] Downloading package punkt_tab to /root/nltk_data...\n",
      "[nltk_data]   Unzipping tokenizers/punkt_tab.zip.\n",
      "[nltk_data] Downloading package stopwords to /root/nltk_data...\n",
      "[nltk_data]   Unzipping corpora/stopwords.zip.\n",
      "[nltk_data] Downloading package wordnet to /root/nltk_data...\n"
     ]
    },
    {
     "data": {
      "text/plain": [
       "True"
      ]
     },
     "execution_count": 3,
     "metadata": {},
     "output_type": "execute_result"
    }
   ],
   "source": [
    "import nltk\n",
    "nltk.download('punkt_tab')\n",
    "nltk.download('stopwords')\n",
    "nltk.download('wordnet')\n",
    "#nltk.download('averaged_perceptron_tagger')\n",
    "#nltk.download('averaged_perceptron_tagger_eng')"
   ]
  },
  {
   "cell_type": "markdown",
   "id": "c046dee7",
   "metadata": {},
   "source": [
    "# 1. How Related Are these Active Recovery Protocols? \n",
    "\n",
    "Let's create an embedding representation for each protocol, calculate a similarity matrix, and then make a heatmap to see how much they overlap!"
   ]
  },
  {
   "cell_type": "markdown",
   "id": "f66622c0",
   "metadata": {},
   "source": [
    "## Analysis"
   ]
  },
  {
   "cell_type": "markdown",
   "id": "6f0319a3",
   "metadata": {},
   "source": [
    "### Embeddings"
   ]
  },
  {
   "cell_type": "markdown",
   "id": "c6920ef4",
   "metadata": {},
   "source": [
    "First, I need each active protocol to be its own document."
   ]
  },
  {
   "cell_type": "code",
   "execution_count": 5,
   "id": "79d32a41",
   "metadata": {},
   "outputs": [],
   "source": [
    "def read_text_files(file_dict):\n",
    "    data = {}\n",
    "    for var_name, file_path in file_dict.items():\n",
    "        with open(file_path, \"r\", encoding=\"utf-8\") as f:\n",
    "            data[var_name] = f.read().lower()\n",
    "    return data\n",
    "\n",
    "# Example usage:\n",
    "breathwork_file_dict = {\n",
    "    \"breathwork_overview_raw\": \"data/raw/breathwork/overview.txt\",\n",
    "    \"breathwork_execution_raw\": \"data/raw/breathwork/execution.txt\",\n",
    "    \"breathwork_benefits_raw\": \"data/raw/breathwork/benefits.txt\"\n",
    "}\n",
    "\n",
    "cryotherapy_file_dict = {\n",
    "    \"cryotherapy_overview_raw\": \"data/raw/cryotherapy/overview.txt\",\n",
    "    \"cryotherapy_execution_raw\": \"data/raw/cryotherapy/execution.txt\",\n",
    "    \"cryotherapy_benefits_raw\": \"data/raw/cryotherapy/benefits.txt\"\n",
    "}\n",
    "\n",
    "heat_therapy_file_dict = {\n",
    "    \"heat_therapy_overview_raw\": \"data/raw/heat_therapy/overview.txt\",\n",
    "    \"heat_therapy_execution_raw\": \"data/raw/heat_therapy/execution.txt\",\n",
    "    \"heat_therapy_benefits_raw\": \"data/raw/heat_therapy/benefits.txt\"\n",
    "}\n",
    "\n",
    "exercise_file_dict = {\n",
    "    \"exercise_overview_raw\": \"data/raw/exercise/overview.txt\",\n",
    "    \"exercise_execution_raw\": \"data/raw/exercise/execution.txt\",\n",
    "    \"exercise_benefits_raw\": \"data/raw/exercise/benefits.txt\"\n",
    "}\n",
    "\n",
    "nature_file_dict = {\n",
    "    \"nature_overview_raw\": \"data/raw/nature/overview.txt\",\n",
    "    \"nature_execution_raw\": \"data/raw/nature/execution.txt\",\n",
    "    \"nature_benefits_raw\": \"data/raw/nature/benefits.txt\"\n",
    "}\n",
    "\n",
    "sleep_file_dict = {\n",
    "    \"sleep_overview_raw\": \"data/raw/sleep/overview.txt\",\n",
    "    \"sleep_execution_raw\": \"data/raw/sleep/execution.txt\",\n",
    "    \"sleep_benefits_raw\": \"data/raw/sleep/benefits.txt\"\n",
    "}\n",
    "\n",
    "breathwork_text_data = read_text_files(breathwork_file_dict)\n",
    "cryotherapy_text_data = read_text_files(cryotherapy_file_dict)\n",
    "heat_therapy_text_data = read_text_files(heat_therapy_file_dict)\n",
    "exercise_text_data = read_text_files(exercise_file_dict)\n",
    "nature_text_data = read_text_files(nature_file_dict)\n",
    "sleep_text_data = read_text_files(sleep_file_dict)"
   ]
  },
  {
   "cell_type": "code",
   "execution_count": 7,
   "id": "b6261961",
   "metadata": {},
   "outputs": [
    {
     "data": {
      "application/vnd.jupyter.widget-view+json": {
       "model_id": "57035458466840dd9d2aca998df542b4",
       "version_major": 2,
       "version_minor": 0
      },
      "text/plain": [
       "modules.json:   0%|          | 0.00/349 [00:00<?, ?B/s]"
      ]
     },
     "metadata": {},
     "output_type": "display_data"
    },
    {
     "data": {
      "application/vnd.jupyter.widget-view+json": {
       "model_id": "a931248379f94a6da78eb93f35bb729c",
       "version_major": 2,
       "version_minor": 0
      },
      "text/plain": [
       "config_sentence_transformers.json:   0%|          | 0.00/116 [00:00<?, ?B/s]"
      ]
     },
     "metadata": {},
     "output_type": "display_data"
    },
    {
     "data": {
      "application/vnd.jupyter.widget-view+json": {
       "model_id": "3252866d4fae4a1d9c129c0864cd4988",
       "version_major": 2,
       "version_minor": 0
      },
      "text/plain": [
       "README.md: 0.00B [00:00, ?B/s]"
      ]
     },
     "metadata": {},
     "output_type": "display_data"
    },
    {
     "data": {
      "application/vnd.jupyter.widget-view+json": {
       "model_id": "63731ad779cb43d59535c56ac17c95d1",
       "version_major": 2,
       "version_minor": 0
      },
      "text/plain": [
       "sentence_bert_config.json:   0%|          | 0.00/53.0 [00:00<?, ?B/s]"
      ]
     },
     "metadata": {},
     "output_type": "display_data"
    },
    {
     "data": {
      "application/vnd.jupyter.widget-view+json": {
       "model_id": "090bb1a3f9bd4d28a337316ea23c838d",
       "version_major": 2,
       "version_minor": 0
      },
      "text/plain": [
       "config.json:   0%|          | 0.00/612 [00:00<?, ?B/s]"
      ]
     },
     "metadata": {},
     "output_type": "display_data"
    },
    {
     "data": {
      "application/vnd.jupyter.widget-view+json": {
       "model_id": "ae0335e2958e462d84b229a7d018df69",
       "version_major": 2,
       "version_minor": 0
      },
      "text/plain": [
       "model.safetensors:   0%|          | 0.00/90.9M [00:00<?, ?B/s]"
      ]
     },
     "metadata": {},
     "output_type": "display_data"
    },
    {
     "data": {
      "application/vnd.jupyter.widget-view+json": {
       "model_id": "37dd1d64c65b497885fd7b8153724d35",
       "version_major": 2,
       "version_minor": 0
      },
      "text/plain": [
       "tokenizer_config.json:   0%|          | 0.00/350 [00:00<?, ?B/s]"
      ]
     },
     "metadata": {},
     "output_type": "display_data"
    },
    {
     "data": {
      "application/vnd.jupyter.widget-view+json": {
       "model_id": "376d01ef1e474150a5bf463f1d91c843",
       "version_major": 2,
       "version_minor": 0
      },
      "text/plain": [
       "vocab.txt: 0.00B [00:00, ?B/s]"
      ]
     },
     "metadata": {},
     "output_type": "display_data"
    },
    {
     "data": {
      "application/vnd.jupyter.widget-view+json": {
       "model_id": "96ec39e6aa6640e48b9ec54ef5b7f0db",
       "version_major": 2,
       "version_minor": 0
      },
      "text/plain": [
       "tokenizer.json: 0.00B [00:00, ?B/s]"
      ]
     },
     "metadata": {},
     "output_type": "display_data"
    },
    {
     "data": {
      "application/vnd.jupyter.widget-view+json": {
       "model_id": "7f04780b69644a8cb91c12cb50e70006",
       "version_major": 2,
       "version_minor": 0
      },
      "text/plain": [
       "special_tokens_map.json:   0%|          | 0.00/112 [00:00<?, ?B/s]"
      ]
     },
     "metadata": {},
     "output_type": "display_data"
    },
    {
     "data": {
      "application/vnd.jupyter.widget-view+json": {
       "model_id": "2e18f2e3edc84852b47c3a3a88f2ec3d",
       "version_major": 2,
       "version_minor": 0
      },
      "text/plain": [
       "config.json:   0%|          | 0.00/190 [00:00<?, ?B/s]"
      ]
     },
     "metadata": {},
     "output_type": "display_data"
    }
   ],
   "source": [
    "# Load a pretrained model (e.g., 'all-MiniLM-L6-v2' is lightweight and effective)\n",
    "model = SentenceTransformer('all-MiniLM-L6-v2')\n",
    "\n",
    "# Your documents (replace with your actual text)\n",
    "documents = [\n",
    "    breathwork_text_data[\"breathwork_overview_raw\"] + \" \" + breathwork_text_data[\"breathwork_execution_raw\"] + \" \" + breathwork_text_data[\"breathwork_benefits_raw\"],\n",
    "    cryotherapy_text_data[\"cryotherapy_overview_raw\"] + \" \" + cryotherapy_text_data[\"cryotherapy_execution_raw\"] + \" \" + cryotherapy_text_data[\"cryotherapy_benefits_raw\"],\n",
    "    heat_therapy_text_data[\"heat_therapy_overview_raw\"] + \" \" + heat_therapy_text_data[\"heat_therapy_execution_raw\"] + \" \" + heat_therapy_text_data[\"heat_therapy_benefits_raw\"],\n",
    "    exercise_text_data[\"exercise_overview_raw\"] + \" \" + exercise_text_data[\"exercise_execution_raw\"] + \" \" + exercise_text_data[\"exercise_benefits_raw\"],\n",
    "    nature_text_data[\"nature_overview_raw\"] + \" \" + nature_text_data[\"nature_execution_raw\"] + \" \" + nature_text_data[\"nature_benefits_raw\"],\n",
    "    sleep_text_data[\"sleep_overview_raw\"] + \" \" + sleep_text_data[\"sleep_execution_raw\"] + \" \" + sleep_text_data[\"sleep_benefits_raw\"]\n",
    "]\n",
    "\n",
    "# Generate embeddings\n",
    "embeddings = model.encode(documents, convert_to_tensor=True)"
   ]
  },
  {
   "cell_type": "markdown",
   "id": "7effd234",
   "metadata": {},
   "source": [
    "Let's take a look at one of the embeddings!"
   ]
  },
  {
   "cell_type": "code",
   "execution_count": 10,
   "id": "e969cfce",
   "metadata": {},
   "outputs": [
    {
     "data": {
      "text/plain": [
       "torch.Size([384])"
      ]
     },
     "execution_count": 10,
     "metadata": {},
     "output_type": "execute_result"
    }
   ],
   "source": [
    "embeddings[0].shape"
   ]
  },
  {
   "cell_type": "code",
   "execution_count": 11,
   "id": "d0602e58",
   "metadata": {},
   "outputs": [
    {
     "data": {
      "text/plain": [
       "tensor([-0.0725,  0.0533, -0.0570,  0.0121, -0.0242, -0.0174, -0.0125, -0.0458,\n",
       "        -0.0315,  0.0271])"
      ]
     },
     "execution_count": 11,
     "metadata": {},
     "output_type": "execute_result"
    }
   ],
   "source": [
    "embeddings[0][0:10]"
   ]
  },
  {
   "cell_type": "markdown",
   "id": "10e06c2f",
   "metadata": {},
   "source": [
    "### Similarity Matrix"
   ]
  },
  {
   "cell_type": "code",
   "execution_count": 13,
   "id": "29e033e6",
   "metadata": {},
   "outputs": [
    {
     "name": "stdout",
     "output_type": "stream",
     "text": [
      "Similarity Matrix:\n",
      "[[1.0000002  0.35337472 0.55132973 0.5183076  0.53135264 0.5063235 ]\n",
      " [0.35337472 1.0000004  0.6192724  0.50839937 0.37734425 0.3363817 ]\n",
      " [0.55132973 0.6192724  1.         0.5834539  0.59140074 0.5238651 ]\n",
      " [0.5183076  0.50839937 0.5834539  0.99999994 0.6421325  0.63790226]\n",
      " [0.53135264 0.37734425 0.59140074 0.6421325  1.0000002  0.60041714]\n",
      " [0.5063235  0.3363817  0.5238651  0.63790226 0.60041714 0.9999996 ]]\n"
     ]
    }
   ],
   "source": [
    "# Compute cosine similarity matrix\n",
    "similarity_matrix = cosine_similarity(embeddings)\n",
    "\n",
    "print(\"Similarity Matrix:\")\n",
    "print(similarity_matrix)"
   ]
  },
  {
   "cell_type": "markdown",
   "id": "0e61f478",
   "metadata": {},
   "source": [
    "## Visualization"
   ]
  },
  {
   "cell_type": "markdown",
   "id": "64c9a924",
   "metadata": {},
   "source": [
    "### Heatmap"
   ]
  },
  {
   "cell_type": "code",
   "execution_count": 17,
   "id": "52275bd9",
   "metadata": {},
   "outputs": [
    {
     "data": {
      "text/html": [
       "\n",
       "<style>\n",
       "  #altair-viz-550cbeb464f44d268f394cc7c16c8cf2.vega-embed {\n",
       "    width: 100%;\n",
       "    display: flex;\n",
       "  }\n",
       "\n",
       "  #altair-viz-550cbeb464f44d268f394cc7c16c8cf2.vega-embed details,\n",
       "  #altair-viz-550cbeb464f44d268f394cc7c16c8cf2.vega-embed details summary {\n",
       "    position: relative;\n",
       "  }\n",
       "</style>\n",
       "<div id=\"altair-viz-550cbeb464f44d268f394cc7c16c8cf2\"></div>\n",
       "<script type=\"text/javascript\">\n",
       "  var VEGA_DEBUG = (typeof VEGA_DEBUG == \"undefined\") ? {} : VEGA_DEBUG;\n",
       "  (function(spec, embedOpt){\n",
       "    let outputDiv = document.currentScript.previousElementSibling;\n",
       "    if (outputDiv.id !== \"altair-viz-550cbeb464f44d268f394cc7c16c8cf2\") {\n",
       "      outputDiv = document.getElementById(\"altair-viz-550cbeb464f44d268f394cc7c16c8cf2\");\n",
       "    }\n",
       "\n",
       "    const paths = {\n",
       "      \"vega\": \"https://cdn.jsdelivr.net/npm/vega@5?noext\",\n",
       "      \"vega-lib\": \"https://cdn.jsdelivr.net/npm/vega-lib?noext\",\n",
       "      \"vega-lite\": \"https://cdn.jsdelivr.net/npm/vega-lite@5.20.1?noext\",\n",
       "      \"vega-embed\": \"https://cdn.jsdelivr.net/npm/vega-embed@6?noext\",\n",
       "    };\n",
       "\n",
       "    function maybeLoadScript(lib, version) {\n",
       "      var key = `${lib.replace(\"-\", \"\")}_version`;\n",
       "      return (VEGA_DEBUG[key] == version) ?\n",
       "        Promise.resolve(paths[lib]) :\n",
       "        new Promise(function(resolve, reject) {\n",
       "          var s = document.createElement('script');\n",
       "          document.getElementsByTagName(\"head\")[0].appendChild(s);\n",
       "          s.async = true;\n",
       "          s.onload = () => {\n",
       "            VEGA_DEBUG[key] = version;\n",
       "            return resolve(paths[lib]);\n",
       "          };\n",
       "          s.onerror = () => reject(`Error loading script: ${paths[lib]}`);\n",
       "          s.src = paths[lib];\n",
       "        });\n",
       "    }\n",
       "\n",
       "    function showError(err) {\n",
       "      outputDiv.innerHTML = `<div class=\"error\" style=\"color:red;\">${err}</div>`;\n",
       "      throw err;\n",
       "    }\n",
       "\n",
       "    function displayChart(vegaEmbed) {\n",
       "      vegaEmbed(outputDiv, spec, embedOpt)\n",
       "        .catch(err => showError(`Javascript Error: ${err.message}<br>This usually means there's a typo in your chart specification. See the javascript console for the full traceback.`));\n",
       "    }\n",
       "\n",
       "    if(typeof define === \"function\" && define.amd) {\n",
       "      requirejs.config({paths});\n",
       "      let deps = [\"vega-embed\"];\n",
       "      require(deps, displayChart, err => showError(`Error loading script: ${err.message}`));\n",
       "    } else {\n",
       "      maybeLoadScript(\"vega\", \"5\")\n",
       "        .then(() => maybeLoadScript(\"vega-lite\", \"5.20.1\"))\n",
       "        .then(() => maybeLoadScript(\"vega-embed\", \"6\"))\n",
       "        .catch(showError)\n",
       "        .then(() => displayChart(vegaEmbed));\n",
       "    }\n",
       "  })({\"config\": {\"view\": {\"continuousWidth\": 300, \"continuousHeight\": 300}}, \"layer\": [{\"mark\": {\"type\": \"rect\"}, \"encoding\": {\"color\": {\"field\": \"value\", \"legend\": {\"title\": \"Similarity\"}, \"scale\": {\"domain\": [0, 1], \"scheme\": \"oranges\"}, \"type\": \"quantitative\"}, \"tooltip\": [{\"field\": \"x\", \"type\": \"nominal\"}, {\"field\": \"y\", \"type\": \"nominal\"}, {\"field\": \"value\", \"type\": \"quantitative\"}], \"x\": {\"field\": \"x\", \"sort\": [\"breathwork\", \"cryotherapy\", \"heat_therapy\", \"exercise\", \"nature\", \"sleep\"], \"title\": \"\", \"type\": \"ordinal\"}, \"y\": {\"field\": \"y\", \"sort\": [\"breathwork\", \"cryotherapy\", \"heat_therapy\", \"exercise\", \"nature\", \"sleep\"], \"title\": \"\", \"type\": \"ordinal\"}}, \"name\": \"view_2\", \"title\": \"Active Recovery Protocol Similarity Heatmap\"}, {\"mark\": {\"type\": \"text\", \"baseline\": \"middle\"}, \"encoding\": {\"color\": {\"condition\": {\"test\": \"(datum.value > 0.5)\", \"value\": \"black\"}, \"value\": \"white\"}, \"text\": {\"field\": \"value\", \"format\": \".2f\", \"type\": \"quantitative\"}, \"tooltip\": [{\"field\": \"x\", \"type\": \"nominal\"}, {\"field\": \"y\", \"type\": \"nominal\"}, {\"field\": \"value\", \"type\": \"quantitative\"}], \"x\": {\"field\": \"x\", \"sort\": [\"breathwork\", \"cryotherapy\", \"heat_therapy\", \"exercise\", \"nature\", \"sleep\"], \"title\": \"\", \"type\": \"ordinal\"}, \"y\": {\"field\": \"y\", \"sort\": [\"breathwork\", \"cryotherapy\", \"heat_therapy\", \"exercise\", \"nature\", \"sleep\"], \"title\": \"\", \"type\": \"ordinal\"}}, \"title\": \"Active Recovery Protocol Similarity Heatmap\"}], \"data\": {\"name\": \"data-6d14e86be6ad8ff4931721d6eee4b57d\"}, \"height\": 300, \"params\": [{\"name\": \"param_2\", \"select\": {\"type\": \"interval\", \"encodings\": [\"x\", \"y\"]}, \"bind\": \"scales\", \"views\": [\"view_2\"]}], \"width\": 300, \"$schema\": \"https://vega.github.io/schema/vega-lite/v5.20.1.json\", \"datasets\": {\"data-6d14e86be6ad8ff4931721d6eee4b57d\": [{\"x\": \"breathwork\", \"y\": \"breathwork\", \"value\": 1.000000238418579, \"row_idx\": 0, \"col_idx\": 0}, {\"x\": \"breathwork\", \"y\": \"cryotherapy\", \"value\": 0.353374719619751, \"row_idx\": 1, \"col_idx\": 0}, {\"x\": \"cryotherapy\", \"y\": \"cryotherapy\", \"value\": 1.0000003576278687, \"row_idx\": 1, \"col_idx\": 1}, {\"x\": \"breathwork\", \"y\": \"heat_therapy\", \"value\": 0.5513297319412231, \"row_idx\": 2, \"col_idx\": 0}, {\"x\": \"cryotherapy\", \"y\": \"heat_therapy\", \"value\": 0.6192724108695984, \"row_idx\": 2, \"col_idx\": 1}, {\"x\": \"heat_therapy\", \"y\": \"heat_therapy\", \"value\": 1.0, \"row_idx\": 2, \"col_idx\": 2}, {\"x\": \"breathwork\", \"y\": \"exercise\", \"value\": 0.518307626247406, \"row_idx\": 3, \"col_idx\": 0}, {\"x\": \"cryotherapy\", \"y\": \"exercise\", \"value\": 0.5083993673324585, \"row_idx\": 3, \"col_idx\": 1}, {\"x\": \"heat_therapy\", \"y\": \"exercise\", \"value\": 0.583453893661499, \"row_idx\": 3, \"col_idx\": 2}, {\"x\": \"exercise\", \"y\": \"exercise\", \"value\": 0.9999999403953552, \"row_idx\": 3, \"col_idx\": 3}, {\"x\": \"breathwork\", \"y\": \"nature\", \"value\": 0.5313526391983032, \"row_idx\": 4, \"col_idx\": 0}, {\"x\": \"cryotherapy\", \"y\": \"nature\", \"value\": 0.3773442506790161, \"row_idx\": 4, \"col_idx\": 1}, {\"x\": \"heat_therapy\", \"y\": \"nature\", \"value\": 0.5914007425308228, \"row_idx\": 4, \"col_idx\": 2}, {\"x\": \"exercise\", \"y\": \"nature\", \"value\": 0.6421325206756592, \"row_idx\": 4, \"col_idx\": 3}, {\"x\": \"nature\", \"y\": \"nature\", \"value\": 1.000000238418579, \"row_idx\": 4, \"col_idx\": 4}, {\"x\": \"breathwork\", \"y\": \"sleep\", \"value\": 0.506323516368866, \"row_idx\": 5, \"col_idx\": 0}, {\"x\": \"cryotherapy\", \"y\": \"sleep\", \"value\": 0.3363817036151886, \"row_idx\": 5, \"col_idx\": 1}, {\"x\": \"heat_therapy\", \"y\": \"sleep\", \"value\": 0.5238651037216187, \"row_idx\": 5, \"col_idx\": 2}, {\"x\": \"exercise\", \"y\": \"sleep\", \"value\": 0.6379022598266602, \"row_idx\": 5, \"col_idx\": 3}, {\"x\": \"nature\", \"y\": \"sleep\", \"value\": 0.6004171371459961, \"row_idx\": 5, \"col_idx\": 4}, {\"x\": \"sleep\", \"y\": \"sleep\", \"value\": 0.9999995827674866, \"row_idx\": 5, \"col_idx\": 5}]}}, {\"mode\": \"vega-lite\"});\n",
       "</script>"
      ],
      "text/plain": [
       "alt.LayerChart(...)"
      ]
     },
     "execution_count": 17,
     "metadata": {},
     "output_type": "execute_result"
    }
   ],
   "source": [
    "labels = [\"breathwork\", \"cryotherapy\", \"heat_therapy\", \"exercise\", \"nature\", \"sleep\"]\n",
    "\n",
    "# Convert matrix to long-form DataFrame\n",
    "rows = []\n",
    "for i in range(similarity_matrix.shape[0]):\n",
    "    for j in range(similarity_matrix.shape[1]):\n",
    "        rows.append({\n",
    "            'x': labels[j],\n",
    "            'y': labels[i],\n",
    "            'value': similarity_matrix[i, j],\n",
    "            'row_idx': i,\n",
    "            'col_idx': j\n",
    "        })\n",
    "df = pd.DataFrame(rows)\n",
    "\n",
    "# Filter to show only lower triangle (including diagonal)\n",
    "df_half = df[df['row_idx'] >= df['col_idx']]\n",
    "\n",
    "# Create the half heatmap\n",
    "heatmap = alt.Chart(df_half).mark_rect().encode(\n",
    "    x=alt.X('x:O', title='', sort=labels),\n",
    "    y=alt.Y('y:O', title='', sort=labels),\n",
    "    color=alt.Color('value:Q', \n",
    "                   scale=alt.Scale(scheme='oranges', domain=[0, 1]),\n",
    "                   legend=alt.Legend(title='Similarity')),\n",
    "    tooltip=['x', 'y', 'value']\n",
    ").properties(\n",
    "    title='Active Recovery Protocol Similarity Heatmap',\n",
    "    width=300,\n",
    "    height=300\n",
    ")\n",
    "\n",
    "# Add text labels\n",
    "text = heatmap.mark_text(baseline='middle').encode(\n",
    "    text=alt.Text('value:Q', format='.2f'),\n",
    "    color=alt.condition(\n",
    "        alt.datum.value > 0.5,\n",
    "        alt.value('black'),\n",
    "        alt.value('white')\n",
    "    )\n",
    ")\n",
    "\n",
    "# Combine and make interactive\n",
    "interactive_half_heatmap = (heatmap + text).interactive()\n",
    "interactive_half_heatmap"
   ]
  },
  {
   "cell_type": "markdown",
   "id": "2d216f62",
   "metadata": {},
   "source": [
    "Based on these results, we can immediately see that cryotherapy is the most unique from the rest.\n",
    "\n",
    "We can also see that exercise is very similar to nature-based recovery and sleeping.\n",
    "\n",
    "What is fascinating is that cryotherapy and heat therapy are the most similar with each other compared to the other protocols.\n",
    "\n",
    "Here are the most related pairings:\n",
    "\n",
    "* cryotherapy <-> heat therapy\n",
    "* exercise <-> sleep \n",
    "* nature <-> exercise\n",
    "\n",
    "Breakthwork is the loser, not having any strongest similarity with any other protocol:\n",
    "\n",
    "* breathwork -> heat therapy"
   ]
  }
 ],
 "metadata": {
  "kernelspec": {
   "display_name": "Python 3",
   "language": "python",
   "name": "python3"
  },
  "language_info": {
   "codemirror_mode": {
    "name": "ipython",
    "version": 3
   },
   "file_extension": ".py",
   "mimetype": "text/x-python",
   "name": "python",
   "nbconvert_exporter": "python",
   "pygments_lexer": "ipython3",
   "version": "3.10.18"
  }
 },
 "nbformat": 4,
 "nbformat_minor": 5
}
